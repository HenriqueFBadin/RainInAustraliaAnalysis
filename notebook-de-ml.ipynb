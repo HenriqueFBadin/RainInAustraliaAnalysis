{
 "cells": [
  {
   "cell_type": "code",
   "execution_count": 21,
   "metadata": {
    "execution": {
     "iopub.execute_input": "2024-11-03T19:21:40.072080Z",
     "iopub.status.busy": "2024-11-03T19:21:40.071412Z",
     "iopub.status.idle": "2024-11-03T19:21:40.787204Z",
     "shell.execute_reply": "2024-11-03T19:21:40.786057Z",
     "shell.execute_reply.started": "2024-11-03T19:21:40.072022Z"
    },
    "trusted": true
   },
   "outputs": [],
   "source": [
    "import numpy as np\n",
    "import pandas as pd\n",
    "import seaborn as sns\n",
    "import matplotlib.pyplot as plt\n",
    "\n",
    "df = pd.read_csv(\"weatherAUS.csv\")"
   ]
  },
  {
   "cell_type": "code",
   "execution_count": 22,
   "metadata": {
    "execution": {
     "iopub.execute_input": "2024-11-03T19:21:40.789498Z",
     "iopub.status.busy": "2024-11-03T19:21:40.788959Z",
     "iopub.status.idle": "2024-11-03T19:21:40.799475Z",
     "shell.execute_reply": "2024-11-03T19:21:40.798319Z",
     "shell.execute_reply.started": "2024-11-03T19:21:40.789443Z"
    },
    "trusted": true
   },
   "outputs": [
    {
     "data": {
      "text/plain": [
       "(145460, 23)"
      ]
     },
     "execution_count": 22,
     "metadata": {},
     "output_type": "execute_result"
    }
   ],
   "source": [
    "df.shape"
   ]
  },
  {
   "cell_type": "code",
   "execution_count": 23,
   "metadata": {
    "execution": {
     "iopub.execute_input": "2024-11-03T19:21:40.803456Z",
     "iopub.status.busy": "2024-11-03T19:21:40.802655Z",
     "iopub.status.idle": "2024-11-03T19:21:40.857422Z",
     "shell.execute_reply": "2024-11-03T19:21:40.856262Z",
     "shell.execute_reply.started": "2024-11-03T19:21:40.803397Z"
    },
    "trusted": true
   },
   "outputs": [
    {
     "data": {
      "text/html": [
       "<div>\n",
       "<style scoped>\n",
       "    .dataframe tbody tr th:only-of-type {\n",
       "        vertical-align: middle;\n",
       "    }\n",
       "\n",
       "    .dataframe tbody tr th {\n",
       "        vertical-align: top;\n",
       "    }\n",
       "\n",
       "    .dataframe thead th {\n",
       "        text-align: right;\n",
       "    }\n",
       "</style>\n",
       "<table border=\"1\" class=\"dataframe\">\n",
       "  <thead>\n",
       "    <tr style=\"text-align: right;\">\n",
       "      <th></th>\n",
       "      <th>Date</th>\n",
       "      <th>Location</th>\n",
       "      <th>MinTemp</th>\n",
       "      <th>MaxTemp</th>\n",
       "      <th>Rainfall</th>\n",
       "      <th>Evaporation</th>\n",
       "      <th>Sunshine</th>\n",
       "      <th>WindGustDir</th>\n",
       "      <th>WindGustSpeed</th>\n",
       "      <th>WindDir9am</th>\n",
       "      <th>...</th>\n",
       "      <th>Humidity9am</th>\n",
       "      <th>Humidity3pm</th>\n",
       "      <th>Pressure9am</th>\n",
       "      <th>Pressure3pm</th>\n",
       "      <th>Cloud9am</th>\n",
       "      <th>Cloud3pm</th>\n",
       "      <th>Temp9am</th>\n",
       "      <th>Temp3pm</th>\n",
       "      <th>RainToday</th>\n",
       "      <th>RainTomorrow</th>\n",
       "    </tr>\n",
       "  </thead>\n",
       "  <tbody>\n",
       "    <tr>\n",
       "      <th>0</th>\n",
       "      <td>2008-12-01</td>\n",
       "      <td>Albury</td>\n",
       "      <td>13.4</td>\n",
       "      <td>22.9</td>\n",
       "      <td>0.6</td>\n",
       "      <td>NaN</td>\n",
       "      <td>NaN</td>\n",
       "      <td>W</td>\n",
       "      <td>44.0</td>\n",
       "      <td>W</td>\n",
       "      <td>...</td>\n",
       "      <td>71.0</td>\n",
       "      <td>22.0</td>\n",
       "      <td>1007.7</td>\n",
       "      <td>1007.1</td>\n",
       "      <td>8.0</td>\n",
       "      <td>NaN</td>\n",
       "      <td>16.9</td>\n",
       "      <td>21.8</td>\n",
       "      <td>No</td>\n",
       "      <td>No</td>\n",
       "    </tr>\n",
       "    <tr>\n",
       "      <th>1</th>\n",
       "      <td>2008-12-02</td>\n",
       "      <td>Albury</td>\n",
       "      <td>7.4</td>\n",
       "      <td>25.1</td>\n",
       "      <td>0.0</td>\n",
       "      <td>NaN</td>\n",
       "      <td>NaN</td>\n",
       "      <td>WNW</td>\n",
       "      <td>44.0</td>\n",
       "      <td>NNW</td>\n",
       "      <td>...</td>\n",
       "      <td>44.0</td>\n",
       "      <td>25.0</td>\n",
       "      <td>1010.6</td>\n",
       "      <td>1007.8</td>\n",
       "      <td>NaN</td>\n",
       "      <td>NaN</td>\n",
       "      <td>17.2</td>\n",
       "      <td>24.3</td>\n",
       "      <td>No</td>\n",
       "      <td>No</td>\n",
       "    </tr>\n",
       "    <tr>\n",
       "      <th>2</th>\n",
       "      <td>2008-12-03</td>\n",
       "      <td>Albury</td>\n",
       "      <td>12.9</td>\n",
       "      <td>25.7</td>\n",
       "      <td>0.0</td>\n",
       "      <td>NaN</td>\n",
       "      <td>NaN</td>\n",
       "      <td>WSW</td>\n",
       "      <td>46.0</td>\n",
       "      <td>W</td>\n",
       "      <td>...</td>\n",
       "      <td>38.0</td>\n",
       "      <td>30.0</td>\n",
       "      <td>1007.6</td>\n",
       "      <td>1008.7</td>\n",
       "      <td>NaN</td>\n",
       "      <td>2.0</td>\n",
       "      <td>21.0</td>\n",
       "      <td>23.2</td>\n",
       "      <td>No</td>\n",
       "      <td>No</td>\n",
       "    </tr>\n",
       "    <tr>\n",
       "      <th>3</th>\n",
       "      <td>2008-12-04</td>\n",
       "      <td>Albury</td>\n",
       "      <td>9.2</td>\n",
       "      <td>28.0</td>\n",
       "      <td>0.0</td>\n",
       "      <td>NaN</td>\n",
       "      <td>NaN</td>\n",
       "      <td>NE</td>\n",
       "      <td>24.0</td>\n",
       "      <td>SE</td>\n",
       "      <td>...</td>\n",
       "      <td>45.0</td>\n",
       "      <td>16.0</td>\n",
       "      <td>1017.6</td>\n",
       "      <td>1012.8</td>\n",
       "      <td>NaN</td>\n",
       "      <td>NaN</td>\n",
       "      <td>18.1</td>\n",
       "      <td>26.5</td>\n",
       "      <td>No</td>\n",
       "      <td>No</td>\n",
       "    </tr>\n",
       "    <tr>\n",
       "      <th>4</th>\n",
       "      <td>2008-12-05</td>\n",
       "      <td>Albury</td>\n",
       "      <td>17.5</td>\n",
       "      <td>32.3</td>\n",
       "      <td>1.0</td>\n",
       "      <td>NaN</td>\n",
       "      <td>NaN</td>\n",
       "      <td>W</td>\n",
       "      <td>41.0</td>\n",
       "      <td>ENE</td>\n",
       "      <td>...</td>\n",
       "      <td>82.0</td>\n",
       "      <td>33.0</td>\n",
       "      <td>1010.8</td>\n",
       "      <td>1006.0</td>\n",
       "      <td>7.0</td>\n",
       "      <td>8.0</td>\n",
       "      <td>17.8</td>\n",
       "      <td>29.7</td>\n",
       "      <td>No</td>\n",
       "      <td>No</td>\n",
       "    </tr>\n",
       "  </tbody>\n",
       "</table>\n",
       "<p>5 rows × 23 columns</p>\n",
       "</div>"
      ],
      "text/plain": [
       "         Date Location  MinTemp  MaxTemp  Rainfall  Evaporation  Sunshine  \\\n",
       "0  2008-12-01   Albury     13.4     22.9       0.6          NaN       NaN   \n",
       "1  2008-12-02   Albury      7.4     25.1       0.0          NaN       NaN   \n",
       "2  2008-12-03   Albury     12.9     25.7       0.0          NaN       NaN   \n",
       "3  2008-12-04   Albury      9.2     28.0       0.0          NaN       NaN   \n",
       "4  2008-12-05   Albury     17.5     32.3       1.0          NaN       NaN   \n",
       "\n",
       "  WindGustDir  WindGustSpeed WindDir9am  ... Humidity9am  Humidity3pm  \\\n",
       "0           W           44.0          W  ...        71.0         22.0   \n",
       "1         WNW           44.0        NNW  ...        44.0         25.0   \n",
       "2         WSW           46.0          W  ...        38.0         30.0   \n",
       "3          NE           24.0         SE  ...        45.0         16.0   \n",
       "4           W           41.0        ENE  ...        82.0         33.0   \n",
       "\n",
       "   Pressure9am  Pressure3pm  Cloud9am  Cloud3pm  Temp9am  Temp3pm  RainToday  \\\n",
       "0       1007.7       1007.1       8.0       NaN     16.9     21.8         No   \n",
       "1       1010.6       1007.8       NaN       NaN     17.2     24.3         No   \n",
       "2       1007.6       1008.7       NaN       2.0     21.0     23.2         No   \n",
       "3       1017.6       1012.8       NaN       NaN     18.1     26.5         No   \n",
       "4       1010.8       1006.0       7.0       8.0     17.8     29.7         No   \n",
       "\n",
       "   RainTomorrow  \n",
       "0            No  \n",
       "1            No  \n",
       "2            No  \n",
       "3            No  \n",
       "4            No  \n",
       "\n",
       "[5 rows x 23 columns]"
      ]
     },
     "execution_count": 23,
     "metadata": {},
     "output_type": "execute_result"
    }
   ],
   "source": [
    "df.head()"
   ]
  },
  {
   "cell_type": "code",
   "execution_count": 24,
   "metadata": {
    "execution": {
     "iopub.execute_input": "2024-11-03T19:21:40.859230Z",
     "iopub.status.busy": "2024-11-03T19:21:40.858819Z",
     "iopub.status.idle": "2024-11-03T19:21:40.866773Z",
     "shell.execute_reply": "2024-11-03T19:21:40.865668Z",
     "shell.execute_reply.started": "2024-11-03T19:21:40.859189Z"
    },
    "trusted": true
   },
   "outputs": [
    {
     "data": {
      "text/plain": [
       "Index(['Date', 'Location', 'MinTemp', 'MaxTemp', 'Rainfall', 'Evaporation',\n",
       "       'Sunshine', 'WindGustDir', 'WindGustSpeed', 'WindDir9am', 'WindDir3pm',\n",
       "       'WindSpeed9am', 'WindSpeed3pm', 'Humidity9am', 'Humidity3pm',\n",
       "       'Pressure9am', 'Pressure3pm', 'Cloud9am', 'Cloud3pm', 'Temp9am',\n",
       "       'Temp3pm', 'RainToday', 'RainTomorrow'],\n",
       "      dtype='object')"
      ]
     },
     "execution_count": 24,
     "metadata": {},
     "output_type": "execute_result"
    }
   ],
   "source": [
    "df.columns"
   ]
  },
  {
   "cell_type": "code",
   "execution_count": 25,
   "metadata": {
    "execution": {
     "iopub.execute_input": "2024-11-03T19:21:40.868674Z",
     "iopub.status.busy": "2024-11-03T19:21:40.868296Z",
     "iopub.status.idle": "2024-11-03T19:21:40.879527Z",
     "shell.execute_reply": "2024-11-03T19:21:40.878220Z",
     "shell.execute_reply.started": "2024-11-03T19:21:40.868618Z"
    },
    "trusted": true
   },
   "outputs": [
    {
     "data": {
      "text/plain": [
       "(145460,)"
      ]
     },
     "execution_count": 25,
     "metadata": {},
     "output_type": "execute_result"
    }
   ],
   "source": [
    "target = df[\"RainTomorrow\"]\n",
    "target.shape"
   ]
  },
  {
   "cell_type": "code",
   "execution_count": 26,
   "metadata": {
    "execution": {
     "iopub.execute_input": "2024-11-03T19:21:40.882651Z",
     "iopub.status.busy": "2024-11-03T19:21:40.881276Z",
     "iopub.status.idle": "2024-11-03T19:21:40.935523Z",
     "shell.execute_reply": "2024-11-03T19:21:40.934143Z",
     "shell.execute_reply.started": "2024-11-03T19:21:40.882594Z"
    },
    "trusted": true
   },
   "outputs": [
    {
     "data": {
      "text/plain": [
       "array(['No', 'Yes'], dtype=object)"
      ]
     },
     "execution_count": 26,
     "metadata": {},
     "output_type": "execute_result"
    }
   ],
   "source": [
    "target = target.dropna()\n",
    "target.unique()"
   ]
  },
  {
   "cell_type": "code",
   "execution_count": 27,
   "metadata": {
    "execution": {
     "iopub.execute_input": "2024-11-03T19:21:40.937788Z",
     "iopub.status.busy": "2024-11-03T19:21:40.937329Z",
     "iopub.status.idle": "2024-11-03T19:21:40.960384Z",
     "shell.execute_reply": "2024-11-03T19:21:40.958851Z",
     "shell.execute_reply.started": "2024-11-03T19:21:40.937736Z"
    },
    "trusted": true
   },
   "outputs": [
    {
     "data": {
      "text/plain": [
       "(145460, 22)"
      ]
     },
     "execution_count": 27,
     "metadata": {},
     "output_type": "execute_result"
    }
   ],
   "source": [
    "features = df[['Date', 'Location', 'MinTemp', 'MaxTemp', 'Rainfall', 'Evaporation',\n",
    "               'Sunshine', 'WindGustDir', 'WindGustSpeed', 'WindDir9am', 'WindDir3pm',\n",
    "               'WindSpeed9am', 'WindSpeed3pm', 'Humidity9am', 'Humidity3pm',\n",
    "               'Pressure9am', 'Pressure3pm', 'Cloud9am', 'Cloud3pm', 'Temp9am',\n",
    "               'Temp3pm', 'RainToday']]\n",
    "\n",
    "features.shape"
   ]
  },
  {
   "cell_type": "code",
   "execution_count": 28,
   "metadata": {
    "execution": {
     "iopub.execute_input": "2024-11-03T19:21:40.964320Z",
     "iopub.status.busy": "2024-11-03T19:21:40.962181Z",
     "iopub.status.idle": "2024-11-03T19:21:40.975451Z",
     "shell.execute_reply": "2024-11-03T19:21:40.974082Z",
     "shell.execute_reply.started": "2024-11-03T19:21:40.964274Z"
    },
    "trusted": true
   },
   "outputs": [
    {
     "data": {
      "text/plain": [
       "Date              object\n",
       "Location          object\n",
       "MinTemp          float64\n",
       "MaxTemp          float64\n",
       "Rainfall         float64\n",
       "Evaporation      float64\n",
       "Sunshine         float64\n",
       "WindGustDir       object\n",
       "WindGustSpeed    float64\n",
       "WindDir9am        object\n",
       "WindDir3pm        object\n",
       "WindSpeed9am     float64\n",
       "WindSpeed3pm     float64\n",
       "Humidity9am      float64\n",
       "Humidity3pm      float64\n",
       "Pressure9am      float64\n",
       "Pressure3pm      float64\n",
       "Cloud9am         float64\n",
       "Cloud3pm         float64\n",
       "Temp9am          float64\n",
       "Temp3pm          float64\n",
       "RainToday         object\n",
       "dtype: object"
      ]
     },
     "execution_count": 28,
     "metadata": {},
     "output_type": "execute_result"
    }
   ],
   "source": [
    "features.dtypes"
   ]
  },
  {
   "cell_type": "code",
   "execution_count": 29,
   "metadata": {
    "execution": {
     "iopub.execute_input": "2024-11-03T19:21:40.980509Z",
     "iopub.status.busy": "2024-11-03T19:21:40.980053Z",
     "iopub.status.idle": "2024-11-03T19:21:41.102052Z",
     "shell.execute_reply": "2024-11-03T19:21:41.100962Z",
     "shell.execute_reply.started": "2024-11-03T19:21:40.980468Z"
    },
    "trusted": true
   },
   "outputs": [],
   "source": [
    "# Crie uma cópia do DataFrame original para evitar o SettingWithCopyWarning\n",
    "features_c = features.copy()\n",
    "\n",
    "# Converta a coluna Date para datetime\n",
    "features_c['Date'] = pd.to_datetime(features_c['Date'], errors='coerce')\n",
    "\n",
    "# Verifique se houve algum NaT após a conversão\n",
    "if features_c['Date'].isnull().any():\n",
    "    print(\"Existem valores não convertidos em 'Date':\")\n",
    "    print(features_c[features_c['Date'].isnull()])  # Mostre as linhas com NaT\n",
    "\n",
    "# Adicionando as novas colunas se a conversão for bem-sucedida\n",
    "if not features_c['Date'].isnull().any():\n",
    "    features_c['Year'] = features_c['Date'].dt.year\n",
    "    features_c['Month'] = features_c['Date'].dt.month\n",
    "    features_c['Day'] = features_c['Date'].dt.day\n",
    "    features_c['DayOfWeek'] = features_c['Date'].dt.dayofweek\n",
    "\n",
    "    # Remova a coluna Date se não for mais necessária\n",
    "    features_c = features_c.drop(columns=['Date'])\n",
    "else:\n",
    "    print(\"Não foi possível adicionar as colunas porque existem valores NaT.\")"
   ]
  },
  {
   "cell_type": "code",
   "execution_count": 30,
   "metadata": {
    "execution": {
     "iopub.execute_input": "2024-11-03T19:21:41.105431Z",
     "iopub.status.busy": "2024-11-03T19:21:41.104500Z",
     "iopub.status.idle": "2024-11-03T19:21:41.168222Z",
     "shell.execute_reply": "2024-11-03T19:21:41.166808Z",
     "shell.execute_reply.started": "2024-11-03T19:21:41.105365Z"
    },
    "trusted": true
   },
   "outputs": [
    {
     "data": {
      "text/plain": [
       "count     142199\n",
       "unique         2\n",
       "top           No\n",
       "freq      110319\n",
       "Name: RainToday, dtype: object"
      ]
     },
     "execution_count": 30,
     "metadata": {},
     "output_type": "execute_result"
    }
   ],
   "source": [
    "features_c[\"RainToday\"].describe()"
   ]
  },
  {
   "cell_type": "code",
   "execution_count": 31,
   "metadata": {
    "execution": {
     "iopub.execute_input": "2024-11-03T19:21:41.170580Z",
     "iopub.status.busy": "2024-11-03T19:21:41.170178Z",
     "iopub.status.idle": "2024-11-03T19:21:41.198099Z",
     "shell.execute_reply": "2024-11-03T19:21:41.196763Z",
     "shell.execute_reply.started": "2024-11-03T19:21:41.170539Z"
    },
    "trusted": true
   },
   "outputs": [],
   "source": [
    "features_c['RainToday'] = features_c['RainToday'].map({'Yes': 1, 'No': 0})"
   ]
  },
  {
   "cell_type": "code",
   "execution_count": 32,
   "metadata": {
    "execution": {
     "iopub.execute_input": "2024-11-03T19:21:41.201561Z",
     "iopub.status.busy": "2024-11-03T19:21:41.201114Z",
     "iopub.status.idle": "2024-11-03T19:21:41.401206Z",
     "shell.execute_reply": "2024-11-03T19:21:41.399927Z",
     "shell.execute_reply.started": "2024-11-03T19:21:41.201509Z"
    },
    "trusted": true
   },
   "outputs": [],
   "source": [
    "features_c = pd.get_dummies(features_c, columns=['Location', 'WindGustDir', 'WindDir9am', 'WindDir3pm'], drop_first=True)"
   ]
  },
  {
   "cell_type": "code",
   "execution_count": 33,
   "metadata": {
    "execution": {
     "iopub.execute_input": "2024-11-03T19:21:41.404067Z",
     "iopub.status.busy": "2024-11-03T19:21:41.403340Z",
     "iopub.status.idle": "2024-11-03T19:21:41.413944Z",
     "shell.execute_reply": "2024-11-03T19:21:41.412672Z",
     "shell.execute_reply.started": "2024-11-03T19:21:41.404013Z"
    },
    "trusted": true
   },
   "outputs": [
    {
     "data": {
      "text/plain": [
       "MinTemp           float64\n",
       "MaxTemp           float64\n",
       "Rainfall          float64\n",
       "Evaporation       float64\n",
       "Sunshine          float64\n",
       "                   ...   \n",
       "WindDir3pm_SSW       bool\n",
       "WindDir3pm_SW        bool\n",
       "WindDir3pm_W         bool\n",
       "WindDir3pm_WNW       bool\n",
       "WindDir3pm_WSW       bool\n",
       "Length: 114, dtype: object"
      ]
     },
     "execution_count": 33,
     "metadata": {},
     "output_type": "execute_result"
    }
   ],
   "source": [
    "features_c.dtypes"
   ]
  },
  {
   "cell_type": "code",
   "execution_count": 34,
   "metadata": {
    "execution": {
     "iopub.execute_input": "2024-11-03T19:21:41.416119Z",
     "iopub.status.busy": "2024-11-03T19:21:41.415411Z",
     "iopub.status.idle": "2024-11-03T19:21:42.415311Z",
     "shell.execute_reply": "2024-11-03T19:21:42.413992Z",
     "shell.execute_reply.started": "2024-11-03T19:21:41.416066Z"
    },
    "trusted": true
   },
   "outputs": [
    {
     "data": {
      "text/plain": [
       "RainTomorrow\n",
       "0    110316\n",
       "1     31877\n",
       "Name: count, dtype: int64"
      ]
     },
     "execution_count": 34,
     "metadata": {},
     "output_type": "execute_result"
    }
   ],
   "source": [
    "target = target.map({'Yes': 1, 'No': 0})\n",
    "target.value_counts()"
   ]
  },
  {
   "cell_type": "code",
   "execution_count": 35,
   "metadata": {
    "execution": {
     "iopub.execute_input": "2024-11-03T19:21:42.417338Z",
     "iopub.status.busy": "2024-11-03T19:21:42.416762Z",
     "iopub.status.idle": "2024-11-03T19:21:48.285020Z",
     "shell.execute_reply": "2024-11-03T19:21:48.283596Z",
     "shell.execute_reply.started": "2024-11-03T19:21:42.417296Z"
    },
    "trusted": true
   },
   "outputs": [
    {
     "data": {
      "image/png": "[encoded data removed]",
      "text/plain": [
       "<Figure size 600x600 with 2 Axes>"
      ]
     },
     "metadata": {},
     "output_type": "display_data"
    }
   ],
   "source": [
    "# Adicionando a variável target ao DataFrame de features\n",
    "features_c['RainTomorrow'] = target\n",
    "\n",
    "# Calculando a correlação apenas com a variável target\n",
    "correlation_with_target = features_c.corr()['RainTomorrow'].drop('RainTomorrow')\n",
    "\n",
    "# Criando um DataFrame para o heatmap e ordenando pela correlação\n",
    "correlation_df = correlation_with_target.to_frame().reset_index()\n",
    "correlation_df.columns = ['Feature', 'Correlation']\n",
    "\n",
    "# Ordenando pela correlação\n",
    "correlation_df = correlation_df.sort_values(by='Correlation', ascending=False)\n",
    "\n",
    "# Criando o heatmap sem números\n",
    "plt.figure(figsize=(6, 6))  # Define o tamanho da figura\n",
    "sns.heatmap(correlation_df.set_index('Feature'), annot=False, cmap='coolwarm', \n",
    "            linewidths=.5, cbar_kws={\"shrink\": .8})\n",
    "\n",
    "plt.title('Correlação das Features com RainTomorrow (Ordenado)')\n",
    "plt.show()"
   ]
  }
 ],
 "metadata": {
  "kaggle": {
   "accelerator": "none",
   "dataSources": [
    {
     "datasetId": 6012,
     "sourceId": 1733506,
     "sourceType": "datasetVersion"
    }
   ],
   "dockerImageVersionId": 30786,
   "isGpuEnabled": false,
   "isInternetEnabled": true,
   "language": "python",
   "sourceType": "notebook"
  },
  "kernelspec": {
   "display_name": "Python 3",
   "language": "python",
   "name": "python3"
  },
  "language_info": {
   "codemirror_mode": {
    "name": "ipython",
    "version": 3
   },
   "file_extension": ".py",
   "mimetype": "text/x-python",
   "name": "python",
   "nbconvert_exporter": "python",
   "pygments_lexer": "ipython3",
   "version": "3.11.9"
  }
 },
 "nbformat": 4,
 "nbformat_minor": 4
}
