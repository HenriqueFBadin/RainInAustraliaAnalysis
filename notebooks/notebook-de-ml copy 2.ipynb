{
 "cells": [
  {
   "cell_type": "markdown",
   "metadata": {},
   "source": [
    "<center><h1> Projeto de Machine Learning </h1><center>\n",
    "<center><h1>Previsão de Chuvas na Austrália</h1><center>\n",
    "\n",
    "------------------------------------------------\n",
    "<center>Eduardo Selber, Henrique Badin e Luca Caruso<center>"
   ]
  },
  {
   "cell_type": "markdown",
   "metadata": {},
   "source": [
    "## Preparando o ambiente"
   ]
  },
  {
   "cell_type": "code",
   "execution_count": null,
   "metadata": {
    "execution": {
     "iopub.execute_input": "2024-11-03T19:21:40.072080Z",
     "iopub.status.busy": "2024-11-03T19:21:40.071412Z",
     "iopub.status.idle": "2024-11-03T19:21:40.787204Z",
     "shell.execute_reply": "2024-11-03T19:21:40.786057Z",
     "shell.execute_reply.started": "2024-11-03T19:21:40.072022Z"
    },
    "trusted": true
   },
   "outputs": [],
   "source": [
    "#Importando as bibliotecas\n",
    "import numpy as np\n",
    "import pandas as pd\n",
    "import seaborn as sns\n",
    "import matplotlib.pyplot as plt\n",
    "import sweetviz as sv\n",
    "from sklearn.linear_model import LogisticRegression\n",
    "from sklearn.metrics import accuracy_score, classification_report, confusion_matrix\n",
    "from sklearn.preprocessing import StandardScaler\n",
    "from sklearn.metrics import root_mean_squared_error\n",
    "#Carregando o dataset\n",
    "df = pd.read_csv(\"weatherAUS.csv\")\n",
    "df.head(5)"
   ]
  },
  {
   "cell_type": "code",
   "execution_count": null,
   "metadata": {},
   "outputs": [],
   "source": [
    "#Gerando um relatorio de analise exploratoria\n",
    "report = sv.analyze(df)\n",
    "report.show_notebook()"
   ]
  },
  {
   "cell_type": "markdown",
   "metadata": {},
   "source": [
    "## Data Wrangling\n",
    "Primeiro vamos formatar os dados da base de dados para prepará-lo para o modelo preditivo"
   ]
  },
  {
   "cell_type": "code",
   "execution_count": null,
   "metadata": {},
   "outputs": [],
   "source": [
    "#Tratamento de valores ausentes: Deletando as linhas com os valores ausentes das colunas \"Raintoday\" e \"RainTomorrow\"\n",
    "df = df.dropna(subset=[\"RainToday\", \"RainTomorrow\"])\n",
    "\n",
    "#Deixando apenas as colunas Date, Location, MinTemp, MaxTemp, Humidity9am, Humidity3pm, Pressure9am, Pressure3pm, Temp9am, Temp3pm, RainToday, RainTomorrow\n",
    "df = df[[\"Date\", \"Location\", \"MinTemp\", \"MaxTemp\", \"Humidity9am\", \"Humidity3pm\", \"Pressure9am\", \"Pressure3pm\", \"Temp9am\", \"Temp3pm\", \"RainToday\", \"RainTomorrow\"]]\n",
    "df = df.dropna()\n",
    "\n",
    "# #Tratamento dos outliers e features engineering:\n",
    "#MinTemp\n",
    "df = df[(df[\"MinTemp\"] >= -10) & (df[\"MinTemp\"] <= 30)]\n",
    "\n",
    "#MaxTemp\n",
    "df = df[(df[\"MaxTemp\"] >= 5) & (df[\"MaxTemp\"] <= 40)]\n",
    "\n",
    "#Humidity9am não possui outliers\n",
    "#Humidity3pm não possui outliers\n",
    "\n",
    "#Pressure9am\n",
    "df = df[(df[\"Pressure9am\"] >= 1000) & (df[\"Pressure9am\"] <= 1035)]\n",
    "\n",
    "#Pressure3pm\n",
    "df = df[(df[\"Pressure3pm\"] >= 1000) & (df[\"Pressure3pm\"] <= 1035)]\n",
    "\n",
    "#Temp9am\n",
    "df = df[(df[\"Temp9am\"] >= 5) & (df[\"Temp9am\"] <= 30)]\n",
    "\n",
    "#Temp3pm\n",
    "df = df[(df[\"Temp3pm\"] >= 8) & (df[\"Temp3pm\"] <= 35)]\n",
    "\n",
    "#Tratamento de variaveis categoricas \n",
    "df[\"RainToday\"] = df[\"RainToday\"].map({\"Yes\":1, \"No\":0})\n",
    "df['RainTomorrow'] = df['RainTomorrow'].replace({'Yes': 1, 'No': 0})"
   ]
  },
  {
   "cell_type": "markdown",
   "metadata": {},
   "source": [
    "## EDA - Exploratory Data Analysis\n",
    "Primeiro vamos analisar os dados que são fornecidos pela base de dados"
   ]
  },
  {
   "cell_type": "markdown",
   "metadata": {},
   "source": [
    "### Colunas do dataset\n",
    "- **Date** - A data da observação (formato: yyyy-mm-dd)\n",
    "- **Location** - A localização da estação meteorológica (Nome da cidade - string)\n",
    "- **MinTemp** - A temperatura mínima em graus Celsius (float)\n",
    "- **MaxTemp** - A temperatura máxima em graus Celsius  (float)\n",
    "- **Rainfall** - A quantidade de chuva medida em mm (float)\n",
    "- **Evaporation** - A taxa de evaporação medida em mm (float)\n",
    "- **Sunshine** - O número de horas de sol (float)\n",
    "- **WindGustDir** - A direção da rajada de vento mais forte (string)\n",
    "- **WindGustSpeed** - A velocidade (em km/h) da rajada de vento mais forte (float)\n",
    "- **WindDir9am** - A direção do vento às 9am (string)\n",
    "- **WindDir3pm** - A direção do vento às 3pm (string)\n",
    "- **WindSpeed9am** - A velocidade do vento às 9am (em km/h) (float)\n",
    "- **WindSpeed3pm** - A velocidade do vento às 3pm (em km/h) (float)\n",
    "- **Humidity9am** - A umidade relativa às 9am (em %) (float)\n",
    "- **Humidity3pm** - A umidade relativa às 3pm (em %) (float)\n",
    "- **Pressure9am** - A pressão atmosférica reduzida ao nível do mar às 9am (em hpa) (float)\n",
    "- **Pressure3pm** - A pressão atmosférica reduzida ao nível do mar às 3pm (em hpa) (float)\n",
    "- **Cloud9am** - A fração de cobertura de nuvens às 9am (em oitavos) (float)\n",
    "- **Cloud3pm** - A fração de cobertura de nuvens às 3pm (em oitavos) (float)\n",
    "- **Temp9am** - A temperatura às 9am em graus Celsius (float)\n",
    "- **Temp3pm** - A temperatura às 3pm em graus Celsius (float)\n",
    "- **RainToday** - Se choveu (precipitação acima de 1mm) ou não (string)\n",
    "- **RainTomorrow** - A variável alvo. Se choverá ou não amanhã (string)\n"
   ]
  },
  {
   "cell_type": "code",
   "execution_count": null,
   "metadata": {},
   "outputs": [],
   "source": [
    "# Verificando as métricas do dataset\n",
    "df.describe().transpose()"
   ]
  },
  {
   "cell_type": "code",
   "execution_count": null,
   "metadata": {},
   "outputs": [],
   "source": [
    "# Estatísticas descritivas do DataFrame\n",
    "df.describe()\n",
    "\n",
    "print(\"VARIÁVEIS NUMÉRICAS\")\n",
    "# Distribuição das variáveis numéricas\n",
    "df.hist(bins=30, figsize=(20, 15), layout=(6, 4))\n",
    "plt.tight_layout()\n",
    "plt.show()\n",
    "\n",
    "# print(\"VARIÁVEIS CATEGÓRICAS\")\n",
    "# # Contagem das variáveis categóricas do DataFrame\n",
    "# plt.figure(figsize=(20, 15))\n",
    "# for i, column in enumerate(df.select_dtypes(include='object').columns, 1):\n",
    "#     plt.subplot(3, 3, i)\n",
    "#     sns.countplot(data=df, y=column)\n",
    "#     plt.title(f'{column} Count')\n",
    "#     plt.xticks(rotation=45)"
   ]
  },
  {
   "cell_type": "code",
   "execution_count": null,
   "metadata": {
    "execution": {
     "iopub.execute_input": "2024-11-03T19:21:40.789498Z",
     "iopub.status.busy": "2024-11-03T19:21:40.788959Z",
     "iopub.status.idle": "2024-11-03T19:21:40.799475Z",
     "shell.execute_reply": "2024-11-03T19:21:40.798319Z",
     "shell.execute_reply.started": "2024-11-03T19:21:40.789443Z"
    },
    "trusted": true
   },
   "outputs": [],
   "source": [
    "df.shape\n"
   ]
  },
  {
   "cell_type": "code",
   "execution_count": null,
   "metadata": {
    "execution": {
     "iopub.execute_input": "2024-11-03T19:21:40.803456Z",
     "iopub.status.busy": "2024-11-03T19:21:40.802655Z",
     "iopub.status.idle": "2024-11-03T19:21:40.857422Z",
     "shell.execute_reply": "2024-11-03T19:21:40.856262Z",
     "shell.execute_reply.started": "2024-11-03T19:21:40.803397Z"
    },
    "trusted": true
   },
   "outputs": [],
   "source": [
    "df.head()"
   ]
  },
  {
   "cell_type": "code",
   "execution_count": null,
   "metadata": {},
   "outputs": [],
   "source": [
    "locations_unicos = df['Location'].unique()\n",
    "print(locations_unicos)"
   ]
  },
  {
   "cell_type": "code",
   "execution_count": null,
   "metadata": {
    "execution": {
     "iopub.execute_input": "2024-11-03T19:21:40.859230Z",
     "iopub.status.busy": "2024-11-03T19:21:40.858819Z",
     "iopub.status.idle": "2024-11-03T19:21:40.866773Z",
     "shell.execute_reply": "2024-11-03T19:21:40.865668Z",
     "shell.execute_reply.started": "2024-11-03T19:21:40.859189Z"
    },
    "trusted": true
   },
   "outputs": [],
   "source": [
    "df.columns"
   ]
  },
  {
   "cell_type": "code",
   "execution_count": null,
   "metadata": {
    "execution": {
     "iopub.execute_input": "2024-11-03T19:21:40.868674Z",
     "iopub.status.busy": "2024-11-03T19:21:40.868296Z",
     "iopub.status.idle": "2024-11-03T19:21:40.879527Z",
     "shell.execute_reply": "2024-11-03T19:21:40.878220Z",
     "shell.execute_reply.started": "2024-11-03T19:21:40.868618Z"
    },
    "trusted": true
   },
   "outputs": [],
   "source": [
    "dates = df['Date']\n",
    "\n",
    "locations = df['Location']\n",
    "\n",
    "#Qtd de features\n",
    "n_features = df.shape[1]\n",
    "\n",
    "#tamanho do dataset de treino\n",
    "n_samples = df.shape[0] * 0.6\n",
    "\n",
    "n_locations = len(locations_unicos)\n",
    "\n",
    "n_linhas = len(df['Date'].unique())\n",
    "\n",
    "n_linhas_train  = n_linhas * 0.6\n",
    "#Go through each Date and put group by all the features of each location by the date and save them in a new dataframe\n",
    "df_grouped = pd.DataFrame()\n",
    " \n"
   ]
  },
  {
   "cell_type": "code",
   "execution_count": null,
   "metadata": {
    "execution": {
     "iopub.execute_input": "2024-11-03T19:21:40.937788Z",
     "iopub.status.busy": "2024-11-03T19:21:40.937329Z",
     "iopub.status.idle": "2024-11-03T19:21:40.960384Z",
     "shell.execute_reply": "2024-11-03T19:21:40.958851Z",
     "shell.execute_reply.started": "2024-11-03T19:21:40.937736Z"
    },
    "trusted": true
   },
   "outputs": [],
   "source": [
    "# features = df[['MinTemp', 'MaxTemp', 'Humidity9am', 'Humidity3pm', 'Pressure9am', 'Pressure3pm', 'Temp9am', 'Temp3pm', 'RainToday']]\n",
    "# features.shape"
   ]
  },
  {
   "cell_type": "code",
   "execution_count": null,
   "metadata": {
    "execution": {
     "iopub.execute_input": "2024-11-03T19:21:40.964320Z",
     "iopub.status.busy": "2024-11-03T19:21:40.962181Z",
     "iopub.status.idle": "2024-11-03T19:21:40.975451Z",
     "shell.execute_reply": "2024-11-03T19:21:40.974082Z",
     "shell.execute_reply.started": "2024-11-03T19:21:40.964274Z"
    },
    "trusted": true
   },
   "outputs": [],
   "source": [
    "features.dtypes"
   ]
  },
  {
   "cell_type": "code",
   "execution_count": null,
   "metadata": {},
   "outputs": [],
   "source": [
    "# Inicializando x_train e y_train\n"
   ]
  },
  {
   "cell_type": "code",
   "execution_count": null,
   "metadata": {},
   "outputs": [],
   "source": [
    "\n",
    "\n",
    "# Iterando sobre cada cidade e preenchendo x_train e y_train\n",
    "for idx, location in enumerate(locations_unicos):\n",
    "    # Filtrando os dados da cidade atual\n",
    "    df_location = df[locations == location]\n",
    "    \n",
    "    # Preenchendo x_train com as features da cidade atual\n",
    "    x_train[:, idx * n_features:(idx + 1) * n_features] = df_location.iloc[:n_samples_location, :-1].values\n",
    "    \n",
    "    # Preenchendo y_train com a variável alvo da cidade atual\n",
    "    y_train[:, idx] = df_location.iloc[:n_samples_location, -1].values\n",
    "\n",
    "# Convertendo x_train e y_train para DataFrame para melhor visualização\n",
    "x_train = pd.DataFrame(x_train, columns=[f'{location}_{feature}' for location in locations_unicos for feature in df.columns[:-1]])\n",
    "y_train = pd.DataFrame(y_train, columns=locations_unicos)\n",
    "\n",
    "print(x_train.head())\n",
    "print(y_train.head())"
   ]
  },
  {
   "cell_type": "code",
   "execution_count": null,
   "metadata": {
    "execution": {
     "iopub.execute_input": "2024-11-03T19:21:40.980509Z",
     "iopub.status.busy": "2024-11-03T19:21:40.980053Z",
     "iopub.status.idle": "2024-11-03T19:21:41.102052Z",
     "shell.execute_reply": "2024-11-03T19:21:41.100962Z",
     "shell.execute_reply.started": "2024-11-03T19:21:40.980468Z"
    },
    "trusted": true
   },
   "outputs": [],
   "source": [
    "\n",
    "\n",
    "\n",
    "window = 7\n",
    "x = []\n",
    "y = []\n",
    "\n",
    "for i in range(x_train.shape[0] - window):\n",
    "    x.append(x_train[i:i+window, :].reshape(1,-1))\n",
    "    y.append(y_train[i+window, :])\n",
    "\n",
    "x = np.array(x)\n",
    "y = np.array(y)"
   ]
  },
  {
   "cell_type": "code",
   "execution_count": null,
   "metadata": {
    "execution": {
     "iopub.execute_input": "2024-11-03T19:21:41.105431Z",
     "iopub.status.busy": "2024-11-03T19:21:41.104500Z",
     "iopub.status.idle": "2024-11-03T19:21:41.168222Z",
     "shell.execute_reply": "2024-11-03T19:21:41.166808Z",
     "shell.execute_reply.started": "2024-11-03T19:21:41.105365Z"
    },
    "trusted": true
   },
   "outputs": [],
   "source": [
    "features_c[\"RainToday\"].describe()"
   ]
  },
  {
   "cell_type": "code",
   "execution_count": null,
   "metadata": {
    "execution": {
     "iopub.execute_input": "2024-11-03T19:21:41.170580Z",
     "iopub.status.busy": "2024-11-03T19:21:41.170178Z",
     "iopub.status.idle": "2024-11-03T19:21:41.198099Z",
     "shell.execute_reply": "2024-11-03T19:21:41.196763Z",
     "shell.execute_reply.started": "2024-11-03T19:21:41.170539Z"
    },
    "trusted": true
   },
   "outputs": [],
   "source": [
    "features_c['RainToday'] = features_c['RainToday'].map({'Yes': 1, 'No': 0})\n"
   ]
  },
  {
   "cell_type": "code",
   "execution_count": null,
   "metadata": {},
   "outputs": [],
   "source": [
    "df = df.sort_values('Date')\n",
    "\n",
    "# Separando o DataFrame\n",
    "n = len(df)\n",
    "train_end = int(0.6 * n)\n",
    "test_end = int(0.8 * n)\n",
    "\n",
    "# Definindo as variáveis de treino, teste e validação\n",
    "x_train = df.iloc[:train_end].drop(columns=['RainTomorrow', 'Date', 'Location'])\n",
    "y_train = df.iloc[:train_end]['RainTomorrow']\n",
    "\n",
    "x_test = df.iloc[train_end:test_end].drop(columns=['RainTomorrow', 'Date', 'Location'])\n",
    "y_test = df.iloc[train_end:test_end]['RainTomorrow']\n",
    "\n",
    "x_val = df.iloc[test_end:].drop(columns=['RainTomorrow', 'Date', 'Location'])\n",
    "y_val = df.iloc[test_end:]['RainTomorrow']\n"
   ]
  },
  {
   "cell_type": "code",
   "execution_count": null,
   "metadata": {},
   "outputs": [],
   "source": [
    "x_train.shape, y_train.shape, x_test.shape, y_test.shape, x_val.shape, y_val.shape"
   ]
  },
  {
   "cell_type": "code",
   "execution_count": null,
   "metadata": {},
   "outputs": [],
   "source": []
  },
  {
   "cell_type": "code",
   "execution_count": null,
   "metadata": {},
   "outputs": [],
   "source": [
    "\n",
    "model = LogisticRegression(max_iter=1000000000000)\n"
   ]
  },
  {
   "cell_type": "code",
   "execution_count": null,
   "metadata": {},
   "outputs": [],
   "source": [
    "model.fit(x_train, y_train)\n"
   ]
  },
  {
   "cell_type": "code",
   "execution_count": null,
   "metadata": {},
   "outputs": [],
   "source": [
    "y_pred = model.predict(x_test)\n"
   ]
  },
  {
   "cell_type": "code",
   "execution_count": null,
   "metadata": {},
   "outputs": [],
   "source": []
  },
  {
   "cell_type": "code",
   "execution_count": null,
   "metadata": {},
   "outputs": [],
   "source": [
    "accuracy_score(y_test, y_pred)"
   ]
  },
  {
   "cell_type": "code",
   "execution_count": null,
   "metadata": {},
   "outputs": [],
   "source": [
    "import matplotlib.pyplot as plt\n",
    "\n",
    "# Contagem de corretos e incorretos\n",
    "certo = 0\n",
    "total = 0\n",
    "for i in range(len(y_pred)):\n",
    "    if y_pred[i] == y_test.iloc[i]:\n",
    "        certo += 1\n",
    "    total += 1\n",
    "\n",
    "errado = total - certo\n",
    "\n",
    "# Dados para o gráfico\n",
    "labels = ['Correto', 'Incorreto']\n",
    "values = [certo, errado]\n",
    "\n",
    "# Criando o gráfico de barras\n",
    "plt.bar(labels, values, color=['green', 'red'])\n",
    "plt.xlabel('Previsões')\n",
    "plt.ylabel('Quantidade')\n",
    "plt.title('Quantidade de Previsões Corretas e Incorretas')\n",
    "plt.show()\n",
    "print(f'Acurácia: {certo/total*100}%')"
   ]
  },
  {
   "cell_type": "code",
   "execution_count": null,
   "metadata": {},
   "outputs": [],
   "source": []
  },
  {
   "cell_type": "code",
   "execution_count": null,
   "metadata": {},
   "outputs": [],
   "source": []
  },
  {
   "cell_type": "code",
   "execution_count": null,
   "metadata": {},
   "outputs": [],
   "source": []
  },
  {
   "cell_type": "code",
   "execution_count": null,
   "metadata": {
    "execution": {
     "iopub.execute_input": "2024-11-03T19:21:41.201561Z",
     "iopub.status.busy": "2024-11-03T19:21:41.201114Z",
     "iopub.status.idle": "2024-11-03T19:21:41.401206Z",
     "shell.execute_reply": "2024-11-03T19:21:41.399927Z",
     "shell.execute_reply.started": "2024-11-03T19:21:41.201509Z"
    },
    "trusted": true
   },
   "outputs": [],
   "source": [
    "features_c = pd.get_dummies(features_c, columns=['Location', 'WindGustDir', 'WindDir9am', 'WindDir3pm'], drop_first=True)"
   ]
  },
  {
   "cell_type": "code",
   "execution_count": null,
   "metadata": {
    "execution": {
     "iopub.execute_input": "2024-11-03T19:21:41.404067Z",
     "iopub.status.busy": "2024-11-03T19:21:41.403340Z",
     "iopub.status.idle": "2024-11-03T19:21:41.413944Z",
     "shell.execute_reply": "2024-11-03T19:21:41.412672Z",
     "shell.execute_reply.started": "2024-11-03T19:21:41.404013Z"
    },
    "trusted": true
   },
   "outputs": [],
   "source": [
    "features_c.dtypes"
   ]
  },
  {
   "cell_type": "code",
   "execution_count": null,
   "metadata": {
    "execution": {
     "iopub.execute_input": "2024-11-03T19:21:41.416119Z",
     "iopub.status.busy": "2024-11-03T19:21:41.415411Z",
     "iopub.status.idle": "2024-11-03T19:21:42.415311Z",
     "shell.execute_reply": "2024-11-03T19:21:42.413992Z",
     "shell.execute_reply.started": "2024-11-03T19:21:41.416066Z"
    },
    "trusted": true
   },
   "outputs": [],
   "source": [
    "target = target.map({'Yes': 1, 'No': 0})\n",
    "target.value_counts()"
   ]
  },
  {
   "cell_type": "code",
   "execution_count": null,
   "metadata": {
    "execution": {
     "iopub.execute_input": "2024-11-03T19:21:42.417338Z",
     "iopub.status.busy": "2024-11-03T19:21:42.416762Z",
     "iopub.status.idle": "2024-11-03T19:21:48.285020Z",
     "shell.execute_reply": "2024-11-03T19:21:48.283596Z",
     "shell.execute_reply.started": "2024-11-03T19:21:42.417296Z"
    },
    "trusted": true
   },
   "outputs": [],
   "source": [
    "# Adicionando a variável target ao DataFrame de features\n",
    "features_c['RainTomorrow'] = target\n",
    "\n",
    "# Calculando a correlação apenas com a variável target\n",
    "correlation_with_target = features_c.corr()['RainTomorrow'].drop('RainTomorrow')\n",
    "\n",
    "# Criando um DataFrame para o heatmap e ordenando pela correlação\n",
    "correlation_df = correlation_with_target.to_frame().reset_index()\n",
    "correlation_df.columns = ['Feature', 'Correlation']\n",
    "\n",
    "# Ordenando pela correlação\n",
    "correlation_df = correlation_df.sort_values(by='Correlation', ascending=False)\n",
    "\n",
    "# Criando o heatmap sem números\n",
    "plt.figure(figsize=(6, 6))  # Define o tamanho da figura\n",
    "sns.heatmap(correlation_df.set_index('Feature'), annot=False, cmap='coolwarm', \n",
    "            linewidths=.5, cbar_kws={\"shrink\": .8})\n",
    "\n",
    "plt.title('Correlação das Features com RainTomorrow (Ordenado)')\n",
    "plt.show()"
   ]
  },
  {
   "cell_type": "code",
   "execution_count": null,
   "metadata": {},
   "outputs": [],
   "source": []
  }
 ],
 "metadata": {
  "kaggle": {
   "accelerator": "none",
   "dataSources": [
    {
     "datasetId": 6012,
     "sourceId": 1733506,
     "sourceType": "datasetVersion"
    }
   ],
   "dockerImageVersionId": 30786,
   "isGpuEnabled": false,
   "isInternetEnabled": true,
   "language": "python",
   "sourceType": "notebook"
  },
  "kernelspec": {
   "display_name": "Python 3",
   "language": "python",
   "name": "python3"
  },
  "language_info": {
   "codemirror_mode": {
    "name": "ipython",
    "version": 3
   },
   "file_extension": ".py",
   "mimetype": "text/x-python",
   "name": "python",
   "nbconvert_exporter": "python",
   "pygments_lexer": "ipython3",
   "version": "3.12.0"
  }
 },
 "nbformat": 4,
 "nbformat_minor": 4
}
