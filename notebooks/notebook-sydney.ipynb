{
 "cells": [
  {
   "cell_type": "markdown",
   "metadata": {},
   "source": [
    "<center><h1> Projeto de Machine Learning </h1><center>\n",
    "<center><h1>Previsão de Chuvas na Austrália</h1><center>\n",
    "\n",
    "------------------------------------------------\n",
    "<center>Eduardo Selber, Henrique Badin e Luca Caruso<center>"
   ]
  },
  {
   "cell_type": "markdown",
   "metadata": {},
   "source": [
    "## Preparando o ambiente"
   ]
  },
  {
   "cell_type": "code",
   "execution_count": null,
   "metadata": {
    "execution": {
     "iopub.execute_input": "2024-11-03T19:21:40.072080Z",
     "iopub.status.busy": "2024-11-03T19:21:40.071412Z",
     "iopub.status.idle": "2024-11-03T19:21:40.787204Z",
     "shell.execute_reply": "2024-11-03T19:21:40.786057Z",
     "shell.execute_reply.started": "2024-11-03T19:21:40.072022Z"
    },
    "trusted": true
   },
   "outputs": [],
   "source": [
    "#Importando as bibliotecas\n",
    "import matplotlib.pyplot as plt\n",
    "import numpy as np\n",
    "import pandas as pd\n",
    "import seaborn as sns\n",
    "#import sweetviz as sv\n",
    "from sklearn.linear_model import LogisticRegression\n",
    "from sklearn.metrics import (accuracy_score, classification_report,\n",
    "                             confusion_matrix, root_mean_squared_error)\n",
    "from sklearn.preprocessing import StandardScaler\n",
    "\n",
    "#Carregando o dataset\n",
    "df = pd.read_csv(\"..\\data\\weatherAUS.csv\")\n",
    "df.head(5)"
   ]
  },
  {
   "cell_type": "code",
   "execution_count": null,
   "metadata": {},
   "outputs": [],
   "source": [
    "#Gerando um relatorio de analise exploratoria\n",
    "#report = sv.analyze(df)\n",
    "#report.show_notebook()"
   ]
  },
  {
   "cell_type": "markdown",
   "metadata": {},
   "source": [
    "## Data Wrangling\n",
    "Primeiro vamos formatar os dados da base de dados para prepará-lo para o modelo preditivo"
   ]
  },
  {
   "cell_type": "code",
   "execution_count": null,
   "metadata": {},
   "outputs": [],
   "source": [
    "#Tratamento de valores ausentes: Deletando as linhas com os valores ausentes das colunas \"Raintoday\" e \"RainTomorrow\"\n",
    "df = df.dropna(subset=[\"RainToday\", \"RainTomorrow\"])\n",
    "\n",
    "#Deixando apenas as colunas Date, Location, MinTemp, MaxTemp, Humidity9am, Humidity3pm, Pressure9am, Pressure3pm, Temp9am, Temp3pm, RainToday, RainTomorrow\n",
    "df = df[[\n",
    "    \"Date\",\n",
    "    \"Location\",\n",
    "    \"MinTemp\",\n",
    "    \"MaxTemp\",\n",
    "    \"Humidity9am\",\n",
    "    \"Humidity3pm\",\n",
    "    \"Pressure9am\",\n",
    "    \"Pressure3pm\",\n",
    "    \"Temp9am\",\n",
    "    \"Temp3pm\",\n",
    "    \"RainToday\",\n",
    "    \"RainTomorrow\",\n",
    "    \"Rainfall\",\n",
    "    \"WindGustSpeed\",\n",
    "    \"WindSpeed9am\",\n",
    "    \"WindSpeed3pm\",\n",
    "]]\n",
    "df = df.dropna()\n",
    "\n",
    "# #Tratamento dos outliers e features engineering:\n",
    "#MinTemp\n",
    "df = df[(df[\"MinTemp\"] >= -10) & (df[\"MinTemp\"] <= 30)]\n",
    "\n",
    "#MaxTemp\n",
    "df = df[(df[\"MaxTemp\"] >= 5) & (df[\"MaxTemp\"] <= 40)]\n",
    "\n",
    "#Humidity9am não possui outliers\n",
    "#Humidity3pm não possui outliers\n",
    "\n",
    "#Pressure9am\n",
    "df = df[(df[\"Pressure9am\"] >= 1000) & (df[\"Pressure9am\"] <= 1035)]\n",
    "\n",
    "#Pressure3pm\n",
    "df = df[(df[\"Pressure3pm\"] >= 1000) & (df[\"Pressure3pm\"] <= 1035)]\n",
    "\n",
    "#Temp9am\n",
    "df = df[(df[\"Temp9am\"] >= 5) & (df[\"Temp9am\"] <= 30)]\n",
    "\n",
    "#Temp3pm\n",
    "df = df[(df[\"Temp3pm\"] >= 8) & (df[\"Temp3pm\"] <= 35)]\n",
    "\n",
    "#df =df[(df[\"Location\"] ==\"Sydney\")]\n",
    "\n",
    "#Tratamento de variaveis categoricas\n",
    "df[\"RainToday\"] = df[\"RainToday\"].map({\"Yes\": 1, \"No\": 0})\n",
    "df['RainTomorrow'] = df['RainTomorrow'].replace({'Yes': 1, 'No': 0})"
   ]
  },
  {
   "cell_type": "markdown",
   "metadata": {},
   "source": [
    "## EDA - Exploratory Data Analysis\n",
    "Primeiro vamos analisar os dados que são fornecidos pela base de dados"
   ]
  },
  {
   "cell_type": "markdown",
   "metadata": {},
   "source": [
    "### Colunas do dataset\n",
    "- **Date** - A data da observação (formato: yyyy-mm-dd)\n",
    "- **Location** - A localização da estação meteorológica (Nome da cidade - string)\n",
    "- **MinTemp** - A temperatura mínima em graus Celsius (float)\n",
    "- **MaxTemp** - A temperatura máxima em graus Celsius  (float)\n",
    "- **Rainfall** - A quantidade de chuva medida em mm (float)\n",
    "- **Evaporation** - A taxa de evaporação medida em mm (float)\n",
    "- **Sunshine** - O número de horas de sol (float)\n",
    "- **WindGustDir** - A direção da rajada de vento mais forte (string)\n",
    "- **WindGustSpeed** - A velocidade (em km/h) da rajada de vento mais forte (float)\n",
    "- **WindDir9am** - A direção do vento às 9am (string)\n",
    "- **WindDir3pm** - A direção do vento às 3pm (string)\n",
    "- **WindSpeed9am** - A velocidade do vento às 9am (em km/h) (float)\n",
    "- **WindSpeed3pm** - A velocidade do vento às 3pm (em km/h) (float)\n",
    "- **Humidity9am** - A umidade relativa às 9am (em %) (float)\n",
    "- **Humidity3pm** - A umidade relativa às 3pm (em %) (float)\n",
    "- **Pressure9am** - A pressão atmosférica reduzida ao nível do mar às 9am (em hpa) (float)\n",
    "- **Pressure3pm** - A pressão atmosférica reduzida ao nível do mar às 3pm (em hpa) (float)\n",
    "- **Cloud9am** - A fração de cobertura de nuvens às 9am (em oitavos) (float)\n",
    "- **Cloud3pm** - A fração de cobertura de nuvens às 3pm (em oitavos) (float)\n",
    "- **Temp9am** - A temperatura às 9am em graus Celsius (float)\n",
    "- **Temp3pm** - A temperatura às 3pm em graus Celsius (float)\n",
    "- **RainToday** - Se choveu (precipitação acima de 1mm) ou não (string)\n",
    "- **RainTomorrow** - A variável alvo. Se choverá ou não amanhã (string)\n"
   ]
  },
  {
   "cell_type": "code",
   "execution_count": null,
   "metadata": {},
   "outputs": [],
   "source": [
    "# Verificando as métricas do dataset\n",
    "df.describe().transpose()"
   ]
  },
  {
   "cell_type": "raw",
   "metadata": {
    "vscode": {
     "languageId": "raw"
    }
   },
   "source": [
    "# Estatísticas descritivas do DataFrame\n",
    "df.describe()\n",
    "\n",
    "print(\"VARIÁVEIS NUMÉRICAS\")\n",
    "# Distribuição das variáveis numéricas\n",
    "df.hist(bins=30, figsize=(20, 15), layout=(6, 4))\n",
    "plt.tight_layout()\n",
    "plt.show()\n",
    "\n",
    "# print(\"VARIÁVEIS CATEGÓRICAS\")\n",
    "# # Contagem das variáveis categóricas do DataFrame\n",
    "# plt.figure(figsize=(20, 15))\n",
    "# for i, column in enumerate(df.select_dtypes(include='object').columns, 1):\n",
    "#     plt.subplot(3, 3, i)\n",
    "#     sns.countplot(data=df, y=column)\n",
    "#     plt.title(f'{column} Count')\n",
    "#     plt.xticks(rotation=45)"
   ]
  },
  {
   "cell_type": "code",
   "execution_count": null,
   "metadata": {
    "execution": {
     "iopub.execute_input": "2024-11-03T19:21:40.789498Z",
     "iopub.status.busy": "2024-11-03T19:21:40.788959Z",
     "iopub.status.idle": "2024-11-03T19:21:40.799475Z",
     "shell.execute_reply": "2024-11-03T19:21:40.798319Z",
     "shell.execute_reply.started": "2024-11-03T19:21:40.789443Z"
    },
    "trusted": true
   },
   "outputs": [],
   "source": [
    "df.shape\n"
   ]
  },
  {
   "cell_type": "code",
   "execution_count": null,
   "metadata": {
    "execution": {
     "iopub.execute_input": "2024-11-03T19:21:40.803456Z",
     "iopub.status.busy": "2024-11-03T19:21:40.802655Z",
     "iopub.status.idle": "2024-11-03T19:21:40.857422Z",
     "shell.execute_reply": "2024-11-03T19:21:40.856262Z",
     "shell.execute_reply.started": "2024-11-03T19:21:40.803397Z"
    },
    "trusted": true
   },
   "outputs": [],
   "source": [
    "df.head()"
   ]
  },
  {
   "cell_type": "code",
   "execution_count": null,
   "metadata": {},
   "outputs": [],
   "source": [
    "locations_unicos = df['Location'].unique()\n",
    "print(locations_unicos)"
   ]
  },
  {
   "cell_type": "code",
   "execution_count": null,
   "metadata": {
    "execution": {
     "iopub.execute_input": "2024-11-03T19:21:40.859230Z",
     "iopub.status.busy": "2024-11-03T19:21:40.858819Z",
     "iopub.status.idle": "2024-11-03T19:21:40.866773Z",
     "shell.execute_reply": "2024-11-03T19:21:40.865668Z",
     "shell.execute_reply.started": "2024-11-03T19:21:40.859189Z"
    },
    "trusted": true
   },
   "outputs": [],
   "source": [
    "df.columns"
   ]
  },
  {
   "cell_type": "code",
   "execution_count": null,
   "metadata": {
    "execution": {
     "iopub.execute_input": "2024-11-03T19:21:40.868674Z",
     "iopub.status.busy": "2024-11-03T19:21:40.868296Z",
     "iopub.status.idle": "2024-11-03T19:21:40.879527Z",
     "shell.execute_reply": "2024-11-03T19:21:40.878220Z",
     "shell.execute_reply.started": "2024-11-03T19:21:40.868618Z"
    },
    "trusted": true
   },
   "outputs": [],
   "source": [
    "target = df[\"RainTomorrow\"]\n",
    "target.shape"
   ]
  },
  {
   "cell_type": "code",
   "execution_count": null,
   "metadata": {
    "execution": {
     "iopub.execute_input": "2024-11-03T19:21:40.882651Z",
     "iopub.status.busy": "2024-11-03T19:21:40.881276Z",
     "iopub.status.idle": "2024-11-03T19:21:40.935523Z",
     "shell.execute_reply": "2024-11-03T19:21:40.934143Z",
     "shell.execute_reply.started": "2024-11-03T19:21:40.882594Z"
    },
    "trusted": true
   },
   "outputs": [],
   "source": [
    "target = target.dropna()\n",
    "target.unique()"
   ]
  },
  {
   "cell_type": "code",
   "execution_count": null,
   "metadata": {
    "execution": {
     "iopub.execute_input": "2024-11-03T19:21:40.937788Z",
     "iopub.status.busy": "2024-11-03T19:21:40.937329Z",
     "iopub.status.idle": "2024-11-03T19:21:40.960384Z",
     "shell.execute_reply": "2024-11-03T19:21:40.958851Z",
     "shell.execute_reply.started": "2024-11-03T19:21:40.937736Z"
    },
    "trusted": true
   },
   "outputs": [],
   "source": [
    "#features = df[['Date', 'Location', 'MinTemp', 'MaxTemp', 'Rainfall', 'Evaporation',\n",
    "#              'Sunshine', 'WindGustDir', 'WindGustSpeed', 'WindDir9am', 'WindDir3pm',\n",
    "#             'WindSpeed9am', 'WindSpeed3pm', 'Humidity9am', 'Humidity3pm',\n",
    "#            'Pressure9am', 'Pressure3pm', 'Cloud9am', 'Cloud3pm', 'Temp9am',\n",
    "#           'Temp3pm', 'RainToday']]\n",
    "features = df[[\n",
    "    'Location',\n",
    "    'Date',\n",
    "    'MinTemp',\n",
    "    'MaxTemp',\n",
    "    'Humidity9am',\n",
    "    'Humidity3pm',\n",
    "    'Pressure9am',\n",
    "    'Pressure3pm',\n",
    "    'Temp9am',\n",
    "    'Temp3pm',\n",
    "    'RainToday',\n",
    "]]\n",
    "features.shape"
   ]
  },
  {
   "cell_type": "code",
   "execution_count": null,
   "metadata": {
    "execution": {
     "iopub.execute_input": "2024-11-03T19:21:40.964320Z",
     "iopub.status.busy": "2024-11-03T19:21:40.962181Z",
     "iopub.status.idle": "2024-11-03T19:21:40.975451Z",
     "shell.execute_reply": "2024-11-03T19:21:40.974082Z",
     "shell.execute_reply.started": "2024-11-03T19:21:40.964274Z"
    },
    "trusted": true
   },
   "outputs": [],
   "source": [
    "features.dtypes"
   ]
  },
  {
   "cell_type": "code",
   "execution_count": null,
   "metadata": {
    "execution": {
     "iopub.execute_input": "2024-11-03T19:21:40.980509Z",
     "iopub.status.busy": "2024-11-03T19:21:40.980053Z",
     "iopub.status.idle": "2024-11-03T19:21:41.102052Z",
     "shell.execute_reply": "2024-11-03T19:21:41.100962Z",
     "shell.execute_reply.started": "2024-11-03T19:21:40.980468Z"
    },
    "trusted": true
   },
   "outputs": [],
   "source": [
    "# Crie uma cópia do DataFrame original para evitar o SettingWithCopyWarning\n",
    "features_c = features.copy()\n",
    "\n",
    "# Converta a coluna Date para datetime\n",
    "features_c['Date'] = pd.to_datetime(features_c['Date'], errors='coerce')\n",
    "\n",
    "# Verifique se houve algum NaT após a conversão\n",
    "if features_c['Date'].isnull().any():\n",
    "    print(\"Existem valores não convertidos em 'Date':\")\n",
    "    print(features_c[features_c['Date'].isnull()])  # Mostre as linhas com NaT\n",
    "\n",
    "# Adicionando as novas colunas se a conversão for bem-sucedida\n",
    "if not features_c['Date'].isnull().any():\n",
    "    features_c['Year'] = features_c['Date'].dt.year\n",
    "    features_c['Month'] = features_c['Date'].dt.month\n",
    "    features_c['Day'] = features_c['Date'].dt.day\n",
    "    features_c['DayOfWeek'] = features_c['Date'].dt.dayofweek\n",
    "\n",
    "    # Remova a coluna Date se não for mais necessária\n",
    "    features_c = features_c.drop(columns=['Date'])\n",
    "else:\n",
    "    print(\"Não foi possível adicionar as colunas porque existem valores NaT.\")"
   ]
  },
  {
   "cell_type": "code",
   "execution_count": null,
   "metadata": {
    "execution": {
     "iopub.execute_input": "2024-11-03T19:21:41.105431Z",
     "iopub.status.busy": "2024-11-03T19:21:41.104500Z",
     "iopub.status.idle": "2024-11-03T19:21:41.168222Z",
     "shell.execute_reply": "2024-11-03T19:21:41.166808Z",
     "shell.execute_reply.started": "2024-11-03T19:21:41.105365Z"
    },
    "trusted": true
   },
   "outputs": [],
   "source": [
    "features_c[\"RainToday\"].describe()"
   ]
  },
  {
   "cell_type": "code",
   "execution_count": null,
   "metadata": {
    "execution": {
     "iopub.execute_input": "2024-11-03T19:21:41.170580Z",
     "iopub.status.busy": "2024-11-03T19:21:41.170178Z",
     "iopub.status.idle": "2024-11-03T19:21:41.198099Z",
     "shell.execute_reply": "2024-11-03T19:21:41.196763Z",
     "shell.execute_reply.started": "2024-11-03T19:21:41.170539Z"
    },
    "trusted": true
   },
   "outputs": [],
   "source": [
    "features_c['RainToday'] = features_c['RainToday'].map({'Yes': 1, 'No': 0})\n"
   ]
  },
  {
   "cell_type": "code",
   "execution_count": null,
   "metadata": {},
   "outputs": [],
   "source": [
    "from sklearn.preprocessing import OrdinalEncoder\n",
    "\n",
    "# Codificando o campo Location em valores inteiros\n",
    "\n",
    "# Agora remova a coluna original\n",
    "df = df.drop(columns=['Location'])\n",
    "# Ordenando os dados por data\n",
    "df = df.sort_values('Date')\n",
    "\n",
    "# Separando o DataFrame em treino, teste e validação\n",
    "n = len(df)\n",
    "train_end = int(0.6 * n)\n",
    "test_end = int(0.8 * n)\n",
    "\n",
    "x_train = df.iloc[:train_end].drop(columns=['RainTomorrow', 'Date'])\n",
    "y_train = df.iloc[:train_end]['RainTomorrow']\n",
    "\n",
    "x_test = df.iloc[train_end:test_end].drop(columns=['RainTomorrow', 'Date'])\n",
    "y_test = df.iloc[train_end:test_end]['RainTomorrow']\n",
    "\n",
    "x_val = df.iloc[test_end:].drop(columns=['RainTomorrow', 'Date'])\n",
    "y_val = df.iloc[test_end:]['RainTomorrow']\n",
    "\n",
    "# Treinando o modelo de regressão logística\n",
    "#from imblearn.over_sampling import SMOTE\n",
    "\n",
    "#smote = SMOTE(random_state=42)\n",
    "#_train, y_train = smote.fit_resample(x_train_balanced, y_train_balanced)"
   ]
  },
  {
   "cell_type": "code",
   "execution_count": null,
   "metadata": {},
   "outputs": [],
   "source": [
    "pd.Series(y_val).value_counts(normalize=True)"
   ]
  },
  {
   "cell_type": "code",
   "execution_count": null,
   "metadata": {},
   "outputs": [],
   "source": [
    "x_train.shape, y_train.shape, x_test.shape, y_test.shape, x_val.shape, y_val.shape"
   ]
  },
  {
   "cell_type": "code",
   "execution_count": null,
   "metadata": {},
   "outputs": [],
   "source": [
    "x_train.head()"
   ]
  },
  {
   "cell_type": "code",
   "execution_count": null,
   "metadata": {},
   "outputs": [],
   "source": [
    "model = LogisticRegression(max_iter=1000, tol=1e-5, solver='liblinear')\n",
    "model.fit(x_train, y_train)"
   ]
  },
  {
   "cell_type": "code",
   "execution_count": null,
   "metadata": {},
   "outputs": [],
   "source": [
    "y_pred = model.predict(x_test)\n"
   ]
  },
  {
   "cell_type": "code",
   "execution_count": null,
   "metadata": {},
   "outputs": [],
   "source": [
    "accuracy_score(y_test, y_pred)"
   ]
  },
  {
   "cell_type": "code",
   "execution_count": null,
   "metadata": {},
   "outputs": [],
   "source": [
    "import matplotlib.pyplot as plt\n",
    "\n",
    "# Contagem de corretos e incorretos\n",
    "certo = 0\n",
    "total = 0\n",
    "for i in range(len(y_pred)):\n",
    "    if y_pred[i] == y_test.iloc[i]:\n",
    "        certo += 1\n",
    "    total += 1\n",
    "\n",
    "errado = total - certo\n",
    "\n",
    "# Dados para o gráfico\n",
    "labels = ['Correto', 'Incorreto']\n",
    "values = [certo, errado]\n",
    "\n",
    "# Criando o gráfico de barras\n",
    "plt.bar(labels, values, color=['green', 'red'])\n",
    "plt.xlabel('Previsões')\n",
    "plt.ylabel('Quantidade')\n",
    "plt.title('Quantidade de Previsões Corretas e Incorretas')\n",
    "plt.show()\n",
    "print(f'Acurácia: {certo/total*100}%')"
   ]
  },
  {
   "cell_type": "code",
   "execution_count": null,
   "metadata": {},
   "outputs": [],
   "source": [
    "y_val_pred = model.predict(x_val)\n"
   ]
  },
  {
   "cell_type": "code",
   "execution_count": null,
   "metadata": {},
   "outputs": [],
   "source": [
    "#Calculando a acurácia\n",
    "accuracy_score(y_val, y_val_pred)"
   ]
  },
  {
   "cell_type": "code",
   "execution_count": null,
   "metadata": {},
   "outputs": [],
   "source": []
  },
  {
   "cell_type": "code",
   "execution_count": null,
   "metadata": {
    "execution": {
     "iopub.execute_input": "2024-11-03T19:21:41.201561Z",
     "iopub.status.busy": "2024-11-03T19:21:41.201114Z",
     "iopub.status.idle": "2024-11-03T19:21:41.401206Z",
     "shell.execute_reply": "2024-11-03T19:21:41.399927Z",
     "shell.execute_reply.started": "2024-11-03T19:21:41.201509Z"
    },
    "trusted": true
   },
   "outputs": [],
   "source": [
    "# features_c = pd.get_dummies(\n",
    "#     features_c,\n",
    "#     columns=['Location', 'WindGustDir', 'WindDir9am', 'WindDir3pm'],\n",
    "#     drop_first=True)"
   ]
  },
  {
   "cell_type": "code",
   "execution_count": null,
   "metadata": {
    "execution": {
     "iopub.execute_input": "2024-11-03T19:21:41.404067Z",
     "iopub.status.busy": "2024-11-03T19:21:41.403340Z",
     "iopub.status.idle": "2024-11-03T19:21:41.413944Z",
     "shell.execute_reply": "2024-11-03T19:21:41.412672Z",
     "shell.execute_reply.started": "2024-11-03T19:21:41.404013Z"
    },
    "trusted": true
   },
   "outputs": [],
   "source": [
    "features_c.dtypes"
   ]
  },
  {
   "cell_type": "code",
   "execution_count": null,
   "metadata": {
    "execution": {
     "iopub.execute_input": "2024-11-03T19:21:41.416119Z",
     "iopub.status.busy": "2024-11-03T19:21:41.415411Z",
     "iopub.status.idle": "2024-11-03T19:21:42.415311Z",
     "shell.execute_reply": "2024-11-03T19:21:42.413992Z",
     "shell.execute_reply.started": "2024-11-03T19:21:41.416066Z"
    },
    "trusted": true
   },
   "outputs": [],
   "source": [
    "target = target.map({'Yes': 1, 'No': 0})\n",
    "target.value_counts()"
   ]
  },
  {
   "cell_type": "code",
   "execution_count": null,
   "metadata": {
    "execution": {
     "iopub.execute_input": "2024-11-03T19:21:42.417338Z",
     "iopub.status.busy": "2024-11-03T19:21:42.416762Z",
     "iopub.status.idle": "2024-11-03T19:21:48.285020Z",
     "shell.execute_reply": "2024-11-03T19:21:48.283596Z",
     "shell.execute_reply.started": "2024-11-03T19:21:42.417296Z"
    },
    "trusted": true
   },
   "outputs": [],
   "source": [
    "# Adicionando a variável target ao DataFrame de features\n",
    "features_c['RainTomorrow'] = target\n",
    "\n",
    "# Calculando a correlação apenas com a variável target\n",
    "correlation_with_target = features_c.corr()['RainTomorrow'].drop(\n",
    "    'RainTomorrow')\n",
    "\n",
    "# Criando um DataFrame para o heatmap e ordenando pela correlação\n",
    "correlation_df = correlation_with_target.to_frame().reset_index()\n",
    "correlation_df.columns = ['Feature', 'Correlation']\n",
    "\n",
    "# Ordenando pela correlação\n",
    "correlation_df = correlation_df.sort_values(by='Correlation', ascending=False)\n",
    "\n",
    "# Criando o heatmap sem números\n",
    "plt.figure(figsize=(6, 6))  # Define o tamanho da figura\n",
    "sns.heatmap(\n",
    "    correlation_df.set_index('Feature'),\n",
    "    annot=False,\n",
    "    cmap='coolwarm',\n",
    "    linewidths=.5,\n",
    "    cbar_kws={\"shrink\": .8},\n",
    ")\n",
    "\n",
    "plt.title('Correlação das Features com RainTomorrow (Ordenado)')\n",
    "plt.show()"
   ]
  },
  {
   "cell_type": "code",
   "execution_count": null,
   "metadata": {},
   "outputs": [],
   "source": []
  },
  {
   "cell_type": "code",
   "execution_count": null,
   "metadata": {},
   "outputs": [],
   "source": []
  },
  {
   "cell_type": "code",
   "execution_count": null,
   "metadata": {},
   "outputs": [],
   "source": []
  }
 ],
 "metadata": {
  "kaggle": {
   "accelerator": "none",
   "dataSources": [
    {
     "datasetId": 6012,
     "sourceId": 1733506,
     "sourceType": "datasetVersion"
    }
   ],
   "dockerImageVersionId": 30786,
   "isGpuEnabled": false,
   "isInternetEnabled": true,
   "language": "python",
   "sourceType": "notebook"
  },
  "kernelspec": {
   "display_name": "env",
   "language": "python",
   "name": "python3"
  },
  "language_info": {
   "codemirror_mode": {
    "name": "ipython",
    "version": 3
   },
   "file_extension": ".py",
   "mimetype": "text/x-python",
   "name": "python",
   "nbconvert_exporter": "python",
   "pygments_lexer": "ipython3",
   "version": "3.11.9"
  }
 },
 "nbformat": 4,
 "nbformat_minor": 4
}
